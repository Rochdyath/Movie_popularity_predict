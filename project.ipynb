{
 "cells": [
  {
   "cell_type": "markdown",
   "id": "9c8d8445-a47a-429c-8a43-1dd34f0917c4",
   "metadata": {},
   "source": [
    "# Objectifs du projet"
   ]
  },
  {
   "cell_type": "markdown",
   "id": "b6786f82-e03d-418b-bfca-250b52ce4749",
   "metadata": {},
   "source": [
    "Le but de ce projet est de prédire la popularité d'un film selon certaines caractéristiques du film"
   ]
  },
  {
   "cell_type": "markdown",
   "id": "152a97ed-f93d-43d8-a48d-8cb22938c97e",
   "metadata": {},
   "source": [
    "# Chargement des données\n",
    "J'ai remarqué que importer directement les données via pandas prenais trop de temps. J'ai donc opté pour une lecture et un chargement des données du fichier ligne par ligne dans une liste. J'ai ensuite convertis cette liste en dataframe pandas."
   ]
  },
  {
   "cell_type": "code",
   "execution_count": 50,
   "id": "b997d913-fefd-427f-98f8-a8924fdeff74",
   "metadata": {},
   "outputs": [],
   "source": [
    "import json\n",
    "\n",
    "lines = []\n",
    "with open(\"data.json\", \"r\", encoding=\"utf-8\") as f:\n",
    "    for i, line in enumerate(f):\n",
    "        if i >= 10000:\n",
    "            break\n",
    "        lines.append(json.loads(line))"
   ]
  },
  {
   "cell_type": "code",
   "execution_count": 51,
   "id": "0406b1ff-b99b-45bf-834e-c9d29868bdc4",
   "metadata": {},
   "outputs": [
    {
     "data": {
      "text/html": [
       "<div>\n",
       "<style scoped>\n",
       "    .dataframe tbody tr th:only-of-type {\n",
       "        vertical-align: middle;\n",
       "    }\n",
       "\n",
       "    .dataframe tbody tr th {\n",
       "        vertical-align: top;\n",
       "    }\n",
       "\n",
       "    .dataframe thead th {\n",
       "        text-align: right;\n",
       "    }\n",
       "</style>\n",
       "<table border=\"1\" class=\"dataframe\">\n",
       "  <thead>\n",
       "    <tr style=\"text-align: right;\">\n",
       "      <th></th>\n",
       "      <th>adult</th>\n",
       "      <th>video</th>\n",
       "      <th>budget</th>\n",
       "      <th>genres</th>\n",
       "      <th>revenue</th>\n",
       "      <th>runtime</th>\n",
       "      <th>popularity</th>\n",
       "      <th>vote_count</th>\n",
       "      <th>release_date</th>\n",
       "      <th>vote_average</th>\n",
       "      <th>origin_country</th>\n",
       "      <th>spoken_languages</th>\n",
       "      <th>original_language</th>\n",
       "    </tr>\n",
       "  </thead>\n",
       "  <tbody>\n",
       "    <tr>\n",
       "      <th>0</th>\n",
       "      <td>False</td>\n",
       "      <td>False</td>\n",
       "      <td>0</td>\n",
       "      <td>[{'id': 35, 'name': 'Comedy'}, {'id': 10751, '...</td>\n",
       "      <td>0</td>\n",
       "      <td>70</td>\n",
       "      <td>0.2989</td>\n",
       "      <td>8</td>\n",
       "      <td>1938-11-30</td>\n",
       "      <td>7.1</td>\n",
       "      <td>[US]</td>\n",
       "      <td>[{'name': 'English', 'iso_639_1': 'en', 'engli...</td>\n",
       "      <td>en</td>\n",
       "    </tr>\n",
       "    <tr>\n",
       "      <th>1</th>\n",
       "      <td>False</td>\n",
       "      <td>False</td>\n",
       "      <td>0</td>\n",
       "      <td>[{'id': 12, 'name': 'Adventure'}]</td>\n",
       "      <td>0</td>\n",
       "      <td>420</td>\n",
       "      <td>0.0882</td>\n",
       "      <td>0</td>\n",
       "      <td>1921-01-01</td>\n",
       "      <td>0.0</td>\n",
       "      <td>[DE]</td>\n",
       "      <td>[]</td>\n",
       "      <td>de</td>\n",
       "    </tr>\n",
       "    <tr>\n",
       "      <th>2</th>\n",
       "      <td>False</td>\n",
       "      <td>False</td>\n",
       "      <td>0</td>\n",
       "      <td>[{'id': 18, 'name': 'Drama'}, {'id': 10749, 'n...</td>\n",
       "      <td>0</td>\n",
       "      <td>120</td>\n",
       "      <td>0.3062</td>\n",
       "      <td>50</td>\n",
       "      <td>1962-06-22</td>\n",
       "      <td>6.7</td>\n",
       "      <td>[FR, IT, JP, PL]</td>\n",
       "      <td>[{'name': 'Français', 'iso_639_1': 'fr', 'engl...</td>\n",
       "      <td>fr</td>\n",
       "    </tr>\n",
       "    <tr>\n",
       "      <th>3</th>\n",
       "      <td>False</td>\n",
       "      <td>False</td>\n",
       "      <td>0</td>\n",
       "      <td>[]</td>\n",
       "      <td>0</td>\n",
       "      <td>69</td>\n",
       "      <td>0.0723</td>\n",
       "      <td>3</td>\n",
       "      <td>2008-12-08</td>\n",
       "      <td>6.0</td>\n",
       "      <td>[US]</td>\n",
       "      <td>[{'name': 'English', 'iso_639_1': 'en', 'engli...</td>\n",
       "      <td>en</td>\n",
       "    </tr>\n",
       "    <tr>\n",
       "      <th>4</th>\n",
       "      <td>False</td>\n",
       "      <td>True</td>\n",
       "      <td>0</td>\n",
       "      <td>[{'id': 10751, 'name': 'Family'}]</td>\n",
       "      <td>0</td>\n",
       "      <td>46</td>\n",
       "      <td>0.0000</td>\n",
       "      <td>0</td>\n",
       "      <td>2010-01-05</td>\n",
       "      <td>0.0</td>\n",
       "      <td>[US]</td>\n",
       "      <td>[]</td>\n",
       "      <td>en</td>\n",
       "    </tr>\n",
       "  </tbody>\n",
       "</table>\n",
       "</div>"
      ],
      "text/plain": [
       "   adult  video  budget                                             genres  \\\n",
       "0  False  False       0  [{'id': 35, 'name': 'Comedy'}, {'id': 10751, '...   \n",
       "1  False  False       0                  [{'id': 12, 'name': 'Adventure'}]   \n",
       "2  False  False       0  [{'id': 18, 'name': 'Drama'}, {'id': 10749, 'n...   \n",
       "3  False  False       0                                                 []   \n",
       "4  False   True       0                  [{'id': 10751, 'name': 'Family'}]   \n",
       "\n",
       "   revenue  runtime  popularity  vote_count release_date  vote_average  \\\n",
       "0        0       70      0.2989           8   1938-11-30           7.1   \n",
       "1        0      420      0.0882           0   1921-01-01           0.0   \n",
       "2        0      120      0.3062          50   1962-06-22           6.7   \n",
       "3        0       69      0.0723           3   2008-12-08           6.0   \n",
       "4        0       46      0.0000           0   2010-01-05           0.0   \n",
       "\n",
       "     origin_country                                   spoken_languages  \\\n",
       "0              [US]  [{'name': 'English', 'iso_639_1': 'en', 'engli...   \n",
       "1              [DE]                                                 []   \n",
       "2  [FR, IT, JP, PL]  [{'name': 'Français', 'iso_639_1': 'fr', 'engl...   \n",
       "3              [US]  [{'name': 'English', 'iso_639_1': 'en', 'engli...   \n",
       "4              [US]                                                 []   \n",
       "\n",
       "  original_language  \n",
       "0                en  \n",
       "1                de  \n",
       "2                fr  \n",
       "3                en  \n",
       "4                en  "
      ]
     },
     "execution_count": 51,
     "metadata": {},
     "output_type": "execute_result"
    }
   ],
   "source": [
    "import pandas as pd\n",
    "\n",
    "df = pd.DataFrame(lines)\n",
    "df = df[['adult', 'video', 'budget', 'genres', 'revenue', 'runtime', 'popularity', 'vote_count', 'release_date', \n",
    "         'vote_average', 'origin_country', 'spoken_languages', 'original_language']]\n",
    "df.head()"
   ]
  },
  {
   "cell_type": "markdown",
   "id": "4e1f430e-17bf-4514-bf90-65f8faa2957b",
   "metadata": {},
   "source": [
    "# Pré - traitement"
   ]
  },
  {
   "cell_type": "markdown",
   "id": "50964718-c1e6-4e39-ba26-9e0a57e772d3",
   "metadata": {},
   "source": [
    "Afin de n'avoir que des valeurs numérique, j'ai convertis les valeurs booléenne en int: 0 pour False et 1 pour True "
   ]
  },
  {
   "cell_type": "code",
   "execution_count": 52,
   "id": "a6e457b6-e1ff-4536-9960-a6c52977e63c",
   "metadata": {},
   "outputs": [
    {
     "name": "stderr",
     "output_type": "stream",
     "text": [
      "C:\\Users\\dyath\\AppData\\Local\\Temp\\ipykernel_20420\\3074727906.py:1: FutureWarning: Downcasting behavior in `replace` is deprecated and will be removed in a future version. To retain the old behavior, explicitly call `result.infer_objects(copy=False)`. To opt-in to the future behavior, set `pd.set_option('future.no_silent_downcasting', True)`\n",
      "  df = df.replace({True: 1, False: 0})\n"
     ]
    }
   ],
   "source": [
    "df = df.replace({True: 1, False: 0})"
   ]
  },
  {
   "cell_type": "markdown",
   "id": "da9f82e5-7c23-48d3-9ce6-f495beb9eb65",
   "metadata": {},
   "source": [
    "Dans la même optique j'ai labélisé les colonnes catégorielles"
   ]
  },
  {
   "cell_type": "code",
   "execution_count": 53,
   "id": "f5843f45-052c-4ebd-a564-4395433767b5",
   "metadata": {},
   "outputs": [
    {
     "data": {
      "text/html": [
       "<div>\n",
       "<style scoped>\n",
       "    .dataframe tbody tr th:only-of-type {\n",
       "        vertical-align: middle;\n",
       "    }\n",
       "\n",
       "    .dataframe tbody tr th {\n",
       "        vertical-align: top;\n",
       "    }\n",
       "\n",
       "    .dataframe thead th {\n",
       "        text-align: right;\n",
       "    }\n",
       "</style>\n",
       "<table border=\"1\" class=\"dataframe\">\n",
       "  <thead>\n",
       "    <tr style=\"text-align: right;\">\n",
       "      <th></th>\n",
       "      <th>original_language</th>\n",
       "      <th>lang_id</th>\n",
       "    </tr>\n",
       "  </thead>\n",
       "  <tbody>\n",
       "    <tr>\n",
       "      <th>0</th>\n",
       "      <td>en</td>\n",
       "      <td>0</td>\n",
       "    </tr>\n",
       "    <tr>\n",
       "      <th>1</th>\n",
       "      <td>de</td>\n",
       "      <td>1</td>\n",
       "    </tr>\n",
       "    <tr>\n",
       "      <th>2</th>\n",
       "      <td>fr</td>\n",
       "      <td>2</td>\n",
       "    </tr>\n",
       "    <tr>\n",
       "      <th>3</th>\n",
       "      <td>fi</td>\n",
       "      <td>3</td>\n",
       "    </tr>\n",
       "    <tr>\n",
       "      <th>4</th>\n",
       "      <td>he</td>\n",
       "      <td>4</td>\n",
       "    </tr>\n",
       "  </tbody>\n",
       "</table>\n",
       "</div>"
      ],
      "text/plain": [
       "  original_language  lang_id\n",
       "0                en        0\n",
       "1                de        1\n",
       "2                fr        2\n",
       "3                fi        3\n",
       "4                he        4"
      ]
     },
     "execution_count": 53,
     "metadata": {},
     "output_type": "execute_result"
    }
   ],
   "source": [
    "lang_df = pd.DataFrame(df['original_language'].unique(), columns=['original_language'])\n",
    "lang_df['lang_id'] = lang_df.index\n",
    "lang_df.head()"
   ]
  },
  {
   "cell_type": "code",
   "execution_count": 54,
   "id": "b7cbec26-afa6-42b9-8fbb-a008c79a70f4",
   "metadata": {},
   "outputs": [],
   "source": [
    "df = df.merge(lang_df, on='original_language', how='left')\n",
    "df = df.drop(columns=['original_language'])\n",
    "df = df.rename(columns={'lang_id': 'original_language'})"
   ]
  },
  {
   "cell_type": "markdown",
   "id": "d9f1b6e3-9e38-41ee-8bd2-a7d710847e11",
   "metadata": {},
   "source": [
    "Certains champs, comme le genre du film pouvaient contenir plusieurs valeurs donc j'en ai fait des colonnes suplémentaires avec comme valeur 0 et 1"
   ]
  },
  {
   "cell_type": "code",
   "execution_count": 55,
   "id": "309d25e4-f40d-4ca2-8732-b3dbec8ce0e0",
   "metadata": {},
   "outputs": [],
   "source": [
    "from sklearn.preprocessing import MultiLabelBinarizer\n",
    "\n",
    "def encode_multi_label_col(df, col, list_it=True):\n",
    "    new_col = col\n",
    "    if list_it: \n",
    "        new_col = col + '_list'\n",
    "        df[new_col] = df[col].apply(lambda x: [d['name'] for d in x] if isinstance(x, list) else [])\n",
    "\n",
    "    mlb = MultiLabelBinarizer()\n",
    "    col_encoded = pd.DataFrame(mlb.fit_transform(df[new_col]), columns=mlb.classes_, index=df.index)\n",
    "    \n",
    "    if list_it: df = df.drop(new_col, axis=1)\n",
    "    \n",
    "    return col_encoded"
   ]
  },
  {
   "cell_type": "code",
   "execution_count": 56,
   "id": "999bc77d-682a-461b-bdf1-3134975195aa",
   "metadata": {},
   "outputs": [
    {
     "name": "stdout",
     "output_type": "stream",
     "text": [
      "genres : Index(['Action', 'Adventure', 'Animation', 'Comedy', 'Crime', 'Documentary',\n",
      "       'Drama', 'Family', 'Fantasy', 'History', 'Horror', 'Music', 'Mystery',\n",
      "       'Romance', 'Science Fiction', 'TV Movie', 'Thriller', 'War', 'Western'],\n",
      "      dtype='object')\n",
      "spoken_languages : Index(['', 'Afrikaans', 'Bahasa indonesia', 'Bahasa melayu', 'Bamanankan',\n",
      "       'Bosanski', 'Català', 'Cymraeg', 'Dansk', 'Deutsch', 'Eesti', 'English',\n",
      "       'Español', 'Esperanto', 'Français', 'Gaeilge', 'Galego', 'Hrvatski',\n",
      "       'Italiano', 'Kinyarwanda', 'Kiswahili', 'Latin', 'Lietuvių', 'Magyar',\n",
      "       'Malti', 'Nederlands', 'No Language', 'Norsk', 'Polski', 'Português',\n",
      "       'Pусский', 'Română', 'Slovenčina', 'Slovenščina', 'Somali', 'Srpski',\n",
      "       'Tiếng Việt', 'Türkçe', 'euskera', 'isiZulu', 'shqip', 'suomi',\n",
      "       'svenska', 'Èʋegbe', 'Íslenska', 'Český', 'ελληνικά', 'Український',\n",
      "       'беларуская мова', 'български език', 'қазақ', 'עִבְרִית', 'اردو',\n",
      "       'العربية', 'فارسی', 'پښتو', 'हिन्दी', 'বাংলা', 'ਪੰਜਾਬੀ', 'தமிழ்',\n",
      "       'తెలుగు', 'සිංහල', 'ภาษาไทย', 'ქართული', '广州话 / 廣州話', '日本語', '普通话',\n",
      "       '한국어/조선말'],\n",
      "      dtype='object')\n",
      "origin_country : Index(['AE', 'AF', 'AN', 'AR', 'AT', 'AU', 'AZ', 'BA', 'BE', 'BG', 'BO', 'BR',\n",
      "       'BT', 'BW', 'BY', 'CA', 'CH', 'CL', 'CN', 'CO', 'CU', 'CY', 'CZ', 'DE',\n",
      "       'DK', 'DZ', 'EE', 'ES', 'ET', 'FI', 'FR', 'GB', 'GR', 'HK', 'HR', 'HT',\n",
      "       'HU', 'ID', 'IE', 'IL', 'IN', 'IR', 'IS', 'IT', 'JM', 'JP', 'KR', 'KZ',\n",
      "       'LB', 'LI', 'LR', 'LT', 'LU', 'LV', 'ME', 'MN', 'MT', 'MX', 'NI', 'NL',\n",
      "       'NO', 'NZ', 'PE', 'PH', 'PK', 'PL', 'PS', 'PT', 'PY', 'RO', 'RS', 'RU',\n",
      "       'SA', 'SE', 'SG', 'SI', 'SK', 'SU', 'SZ', 'TH', 'TJ', 'TN', 'TR', 'TW',\n",
      "       'UA', 'US', 'UY', 'UZ', 'VE', 'VI', 'XC', 'XG', 'YU', 'ZA'],\n",
      "      dtype='object')\n"
     ]
    }
   ],
   "source": [
    "cols = ['genres', 'spoken_languages']\n",
    "\n",
    "for col in cols:\n",
    "    col_encoded = encode_multi_label_col(df, col)\n",
    "    print(col, ':', col_encoded.columns)\n",
    "    df = pd.concat([df, col_encoded], axis=1)\n",
    "\n",
    "col = 'origin_country'\n",
    "col_encoded = encode_multi_label_col(df, col, list_it=False)\n",
    "print(col, ':', col_encoded.columns)\n",
    "df = pd.concat([df, col_encoded], axis=1)"
   ]
  },
  {
   "cell_type": "code",
   "execution_count": 57,
   "id": "ef88a96f-0c1c-4ed2-83c9-6c5e2cf6c3f0",
   "metadata": {},
   "outputs": [],
   "source": [
    "df = df.drop(['genres', 'spoken_languages', 'origin_country', 'genres_list', 'spoken_languages_list'], axis=1)"
   ]
  },
  {
   "cell_type": "code",
   "execution_count": 58,
   "id": "1b361f27-be1a-4900-a93d-4dd3f73aa971",
   "metadata": {},
   "outputs": [
    {
     "data": {
      "text/plain": [
       "Index(['adult', 'video', 'budget', 'revenue', 'runtime', 'popularity',\n",
       "       'vote_count', 'release_date', 'vote_average', 'original_language',\n",
       "       ...\n",
       "       'UA', 'US', 'UY', 'UZ', 'VE', 'VI', 'XC', 'XG', 'YU', 'ZA'],\n",
       "      dtype='object', length=191)"
      ]
     },
     "execution_count": 58,
     "metadata": {},
     "output_type": "execute_result"
    }
   ],
   "source": [
    "df.columns"
   ]
  },
  {
   "cell_type": "markdown",
   "id": "3f505b37-a44d-4425-a6a7-24927eb6ee60",
   "metadata": {},
   "source": [
    "La date était sur un format textuelle. J'ai donc modifié cela et récupéré que l'année."
   ]
  },
  {
   "cell_type": "code",
   "execution_count": 59,
   "id": "14d8993e-8925-4ea0-bf30-db6ad6c0ea95",
   "metadata": {},
   "outputs": [],
   "source": [
    "from datetime import datetime\n",
    "df['release_year'] = df['release_date'].apply(lambda x: datetime.strptime(x, '%Y-%m-%d').year if x else None)\n",
    "df = df.drop('release_date', axis=1)"
   ]
  },
  {
   "cell_type": "code",
   "execution_count": 60,
   "id": "acc1d6dc-66ec-4826-a024-2b6a271cc156",
   "metadata": {},
   "outputs": [
    {
     "name": "stdout",
     "output_type": "stream",
     "text": [
      "<class 'pandas.core.frame.DataFrame'>\n",
      "RangeIndex: 10000 entries, 0 to 9999\n",
      "Columns: 191 entries, adult to release_year\n",
      "dtypes: float64(3), int32(181), int64(7)\n",
      "memory usage: 7.7 MB\n"
     ]
    }
   ],
   "source": [
    "df.info()"
   ]
  },
  {
   "cell_type": "markdown",
   "id": "c382e1a4-3a79-4130-9703-d99a018c414a",
   "metadata": {},
   "source": [
    "Au niveau des colones catégorielles, j'ai remplacé les champs vides par None"
   ]
  },
  {
   "cell_type": "code",
   "execution_count": 61,
   "id": "510bb925-06e2-430b-bbb3-c30f0588d4ab",
   "metadata": {},
   "outputs": [],
   "source": [
    "cat_cols = df.select_dtypes(include='object').columns\n",
    "\n",
    "df[cat_cols] = df[cat_cols].replace('', None)"
   ]
  },
  {
   "cell_type": "markdown",
   "id": "c02168a2-e96f-4529-96ad-285103487e30",
   "metadata": {},
   "source": [
    "# Exploration des données"
   ]
  },
  {
   "cell_type": "code",
   "execution_count": 62,
   "id": "2adf8997-adcf-4c74-b409-2284b6025109",
   "metadata": {},
   "outputs": [
    {
     "name": "stdout",
     "output_type": "stream",
     "text": [
      "<class 'pandas.core.frame.DataFrame'>\n",
      "RangeIndex: 10000 entries, 0 to 9999\n",
      "Data columns (total 10 columns):\n",
      " #   Column             Non-Null Count  Dtype  \n",
      "---  ------             --------------  -----  \n",
      " 0   adult              10000 non-null  int64  \n",
      " 1   video              10000 non-null  int64  \n",
      " 2   budget             10000 non-null  int64  \n",
      " 3   revenue            10000 non-null  int64  \n",
      " 4   runtime            10000 non-null  int64  \n",
      " 5   popularity         10000 non-null  float64\n",
      " 6   vote_count         10000 non-null  int64  \n",
      " 7   release_year       9995 non-null   float64\n",
      " 8   vote_average       10000 non-null  float64\n",
      " 9   original_language  10000 non-null  int64  \n",
      "dtypes: float64(3), int64(7)\n",
      "memory usage: 781.4 KB\n"
     ]
    }
   ],
   "source": [
    "main_cols = ['adult', 'video', 'budget', 'revenue', 'runtime', 'popularity', 'vote_count', 'release_year', 'vote_average', 'original_language']\n",
    "\n",
    "df[main_cols].info()"
   ]
  },
  {
   "cell_type": "code",
   "execution_count": 63,
   "id": "1ed4f4a3-c3d7-44ad-8c99-a0d96320c1ce",
   "metadata": {},
   "outputs": [
    {
     "data": {
      "text/html": [
       "<div>\n",
       "<style scoped>\n",
       "    .dataframe tbody tr th:only-of-type {\n",
       "        vertical-align: middle;\n",
       "    }\n",
       "\n",
       "    .dataframe tbody tr th {\n",
       "        vertical-align: top;\n",
       "    }\n",
       "\n",
       "    .dataframe thead th {\n",
       "        text-align: right;\n",
       "    }\n",
       "</style>\n",
       "<table border=\"1\" class=\"dataframe\">\n",
       "  <thead>\n",
       "    <tr style=\"text-align: right;\">\n",
       "      <th></th>\n",
       "      <th>adult</th>\n",
       "      <th>video</th>\n",
       "      <th>budget</th>\n",
       "      <th>revenue</th>\n",
       "      <th>runtime</th>\n",
       "      <th>popularity</th>\n",
       "      <th>vote_count</th>\n",
       "      <th>release_year</th>\n",
       "      <th>vote_average</th>\n",
       "      <th>original_language</th>\n",
       "    </tr>\n",
       "  </thead>\n",
       "  <tbody>\n",
       "    <tr>\n",
       "      <th>count</th>\n",
       "      <td>10000.0</td>\n",
       "      <td>10000.000000</td>\n",
       "      <td>1.000000e+04</td>\n",
       "      <td>1.000000e+04</td>\n",
       "      <td>10000.000000</td>\n",
       "      <td>10000.000000</td>\n",
       "      <td>10000.000000</td>\n",
       "      <td>9995.000000</td>\n",
       "      <td>10000.000000</td>\n",
       "      <td>10000.000000</td>\n",
       "    </tr>\n",
       "    <tr>\n",
       "      <th>mean</th>\n",
       "      <td>0.0</td>\n",
       "      <td>0.012500</td>\n",
       "      <td>1.167048e+07</td>\n",
       "      <td>3.243486e+07</td>\n",
       "      <td>100.319700</td>\n",
       "      <td>2.495973</td>\n",
       "      <td>934.576500</td>\n",
       "      <td>1992.150175</td>\n",
       "      <td>6.023449</td>\n",
       "      <td>1.980700</td>\n",
       "    </tr>\n",
       "    <tr>\n",
       "      <th>std</th>\n",
       "      <td>0.0</td>\n",
       "      <td>0.111108</td>\n",
       "      <td>2.527688e+07</td>\n",
       "      <td>9.311402e+07</td>\n",
       "      <td>28.547672</td>\n",
       "      <td>4.485322</td>\n",
       "      <td>2330.592085</td>\n",
       "      <td>18.168027</td>\n",
       "      <td>1.590685</td>\n",
       "      <td>5.335501</td>\n",
       "    </tr>\n",
       "    <tr>\n",
       "      <th>min</th>\n",
       "      <td>0.0</td>\n",
       "      <td>0.000000</td>\n",
       "      <td>0.000000e+00</td>\n",
       "      <td>0.000000e+00</td>\n",
       "      <td>0.000000</td>\n",
       "      <td>0.000000</td>\n",
       "      <td>0.000000</td>\n",
       "      <td>1888.000000</td>\n",
       "      <td>0.000000</td>\n",
       "      <td>0.000000</td>\n",
       "    </tr>\n",
       "    <tr>\n",
       "      <th>25%</th>\n",
       "      <td>0.0</td>\n",
       "      <td>0.000000</td>\n",
       "      <td>0.000000e+00</td>\n",
       "      <td>0.000000e+00</td>\n",
       "      <td>90.000000</td>\n",
       "      <td>0.360275</td>\n",
       "      <td>28.000000</td>\n",
       "      <td>1984.000000</td>\n",
       "      <td>5.600000</td>\n",
       "      <td>0.000000</td>\n",
       "    </tr>\n",
       "    <tr>\n",
       "      <th>50%</th>\n",
       "      <td>0.0</td>\n",
       "      <td>0.000000</td>\n",
       "      <td>0.000000e+00</td>\n",
       "      <td>0.000000e+00</td>\n",
       "      <td>98.000000</td>\n",
       "      <td>1.074300</td>\n",
       "      <td>195.000000</td>\n",
       "      <td>1999.000000</td>\n",
       "      <td>6.300000</td>\n",
       "      <td>0.000000</td>\n",
       "    </tr>\n",
       "    <tr>\n",
       "      <th>75%</th>\n",
       "      <td>0.0</td>\n",
       "      <td>0.000000</td>\n",
       "      <td>1.200000e+07</td>\n",
       "      <td>2.142057e+07</td>\n",
       "      <td>111.000000</td>\n",
       "      <td>2.756850</td>\n",
       "      <td>750.000000</td>\n",
       "      <td>2006.000000</td>\n",
       "      <td>6.972000</td>\n",
       "      <td>1.000000</td>\n",
       "    </tr>\n",
       "    <tr>\n",
       "      <th>max</th>\n",
       "      <td>0.0</td>\n",
       "      <td>1.000000</td>\n",
       "      <td>3.790000e+08</td>\n",
       "      <td>2.264162e+09</td>\n",
       "      <td>460.000000</td>\n",
       "      <td>156.044900</td>\n",
       "      <td>33793.000000</td>\n",
       "      <td>2025.000000</td>\n",
       "      <td>10.000000</td>\n",
       "      <td>57.000000</td>\n",
       "    </tr>\n",
       "  </tbody>\n",
       "</table>\n",
       "</div>"
      ],
      "text/plain": [
       "         adult         video        budget       revenue       runtime  \\\n",
       "count  10000.0  10000.000000  1.000000e+04  1.000000e+04  10000.000000   \n",
       "mean       0.0      0.012500  1.167048e+07  3.243486e+07    100.319700   \n",
       "std        0.0      0.111108  2.527688e+07  9.311402e+07     28.547672   \n",
       "min        0.0      0.000000  0.000000e+00  0.000000e+00      0.000000   \n",
       "25%        0.0      0.000000  0.000000e+00  0.000000e+00     90.000000   \n",
       "50%        0.0      0.000000  0.000000e+00  0.000000e+00     98.000000   \n",
       "75%        0.0      0.000000  1.200000e+07  2.142057e+07    111.000000   \n",
       "max        0.0      1.000000  3.790000e+08  2.264162e+09    460.000000   \n",
       "\n",
       "         popularity    vote_count  release_year  vote_average  \\\n",
       "count  10000.000000  10000.000000   9995.000000  10000.000000   \n",
       "mean       2.495973    934.576500   1992.150175      6.023449   \n",
       "std        4.485322   2330.592085     18.168027      1.590685   \n",
       "min        0.000000      0.000000   1888.000000      0.000000   \n",
       "25%        0.360275     28.000000   1984.000000      5.600000   \n",
       "50%        1.074300    195.000000   1999.000000      6.300000   \n",
       "75%        2.756850    750.000000   2006.000000      6.972000   \n",
       "max      156.044900  33793.000000   2025.000000     10.000000   \n",
       "\n",
       "       original_language  \n",
       "count       10000.000000  \n",
       "mean            1.980700  \n",
       "std             5.335501  \n",
       "min             0.000000  \n",
       "25%             0.000000  \n",
       "50%             0.000000  \n",
       "75%             1.000000  \n",
       "max            57.000000  "
      ]
     },
     "execution_count": 63,
     "metadata": {},
     "output_type": "execute_result"
    }
   ],
   "source": [
    "df[main_cols].describe()"
   ]
  },
  {
   "cell_type": "code",
   "execution_count": 64,
   "id": "0576962f-33a5-4604-ad21-ff6be252beb0",
   "metadata": {},
   "outputs": [
    {
     "data": {
      "text/plain": [
       "adult                0\n",
       "video                0\n",
       "budget               0\n",
       "revenue              0\n",
       "runtime              0\n",
       "popularity           0\n",
       "vote_count           0\n",
       "release_year         5\n",
       "vote_average         0\n",
       "original_language    0\n",
       "dtype: int64"
      ]
     },
     "execution_count": 64,
     "metadata": {},
     "output_type": "execute_result"
    }
   ],
   "source": [
    "df[main_cols].isna().sum()"
   ]
  },
  {
   "cell_type": "code",
   "execution_count": 65,
   "id": "cc2bc373-2676-42c3-8f8d-5155aa6fa835",
   "metadata": {},
   "outputs": [
    {
     "name": "stderr",
     "output_type": "stream",
     "text": [
      "C:\\Users\\dyath\\AppData\\Local\\Temp\\ipykernel_20420\\813004258.py:6: UserWarning: FigureCanvasAgg is non-interactive, and thus cannot be shown\n",
      "  plt.show()\n"
     ]
    }
   ],
   "source": [
    "import seaborn as sns\n",
    "import matplotlib.pyplot as plt\n",
    "\n",
    "sns.histplot(df['popularity'], bins=100)\n",
    "plt.title('Distribution de la popularité')\n",
    "plt.show()"
   ]
  },
  {
   "cell_type": "markdown",
   "id": "6d4f4caa-6e34-4499-b900-6ccf04db8b8b",
   "metadata": {},
   "source": [
    "On remarque ici que les données ne sont pas bien représentés, puisque j'ai beaucoup plus de lignes avec une popularité = 0 (environ 6000 lignes sur 10000)"
   ]
  },
  {
   "cell_type": "code",
   "execution_count": 66,
   "id": "f40ba8d5-f7e7-44b8-a394-c7b358f6171c",
   "metadata": {},
   "outputs": [
    {
     "name": "stderr",
     "output_type": "stream",
     "text": [
      "C:\\Users\\dyath\\AppData\\Local\\Temp\\ipykernel_20420\\2523923421.py:3: UserWarning: FigureCanvasAgg is non-interactive, and thus cannot be shown\n",
      "  plt.show()\n"
     ]
    }
   ],
   "source": [
    "df[main_cols].hist(bins=50, figsize=(12, 12))\n",
    "plt.suptitle('Distributions des variables numériques')\n",
    "plt.show()"
   ]
  },
  {
   "cell_type": "code",
   "execution_count": 37,
   "id": "8669e110-7a14-4745-b96d-00f6619f1341",
   "metadata": {},
   "outputs": [
    {
     "name": "stderr",
     "output_type": "stream",
     "text": [
      "C:\\Users\\dyath\\AppData\\Local\\Temp\\ipykernel_20420\\3341962865.py:3: UserWarning: FigureCanvasAgg is non-interactive, and thus cannot be shown\n",
      "  plt.show()\n"
     ]
    }
   ],
   "source": [
    "sns.heatmap(df[main_cols].corr(), annot=True, cmap='coolwarm')\n",
    "plt.title(\"Corrélation entre les variables numériques\")\n",
    "plt.show()"
   ]
  },
  {
   "cell_type": "markdown",
   "id": "7e4e7773-3070-4a0c-8b21-24b72e38de7b",
   "metadata": {},
   "source": [
    "# Implémentation du model"
   ]
  },
  {
   "cell_type": "markdown",
   "id": "d0abd918-b20b-4da3-9f7d-300158cc70ac",
   "metadata": {},
   "source": [
    "J'ai opté pour le RandomForestRegressor"
   ]
  },
  {
   "cell_type": "code",
   "execution_count": 38,
   "id": "91ce1249-d4cf-44d8-8ca4-d3716523b6eb",
   "metadata": {},
   "outputs": [],
   "source": [
    "from sklearn.model_selection import train_test_split\n",
    "\n",
    "y = df['popularity']\n",
    "X = df.drop('popularity', axis=1)\n",
    "\n",
    "X_train, X_test, y_train, y_test = train_test_split(X, y, test_size=0.2, random_state=42)\n"
   ]
  },
  {
   "cell_type": "code",
   "execution_count": 39,
   "id": "0f074413-3929-46d9-964a-7521a292c4e6",
   "metadata": {},
   "outputs": [
    {
     "name": "stdout",
     "output_type": "stream",
     "text": [
      "RMSE: 2.7872\n",
      "R²: 0.4611\n"
     ]
    },
    {
     "name": "stderr",
     "output_type": "stream",
     "text": [
      "C:\\Users\\dyath\\anaconda3\\Lib\\site-packages\\sklearn\\metrics\\_regression.py:492: FutureWarning: 'squared' is deprecated in version 1.4 and will be removed in 1.6. To calculate the root mean squared error, use the function'root_mean_squared_error'.\n",
      "  warnings.warn(\n"
     ]
    }
   ],
   "source": [
    "from sklearn.ensemble import RandomForestRegressor\n",
    "from sklearn.metrics import mean_squared_error, r2_score\n",
    "\n",
    "# Modèle\n",
    "model = RandomForestRegressor(n_estimators=100, random_state=42)\n",
    "model.fit(X_train, y_train)\n",
    "\n",
    "# Prédictions\n",
    "y_pred = model.predict(X_test)\n",
    "\n",
    "# Évaluation\n",
    "rmse = mean_squared_error(y_test, y_pred, squared=False)\n",
    "r2 = r2_score(y_test, y_pred)\n",
    "\n",
    "print(f'RMSE: {rmse:.4f}')\n",
    "print(f'R²: {r2:.4f}')\n"
   ]
  },
  {
   "cell_type": "markdown",
   "id": "f945a61f-2fc4-4ac2-831e-e1fe24a4554e",
   "metadata": {},
   "source": [
    "J'ai obtenue une performance pas très acceptable donc j'ai décidé de refaire un travail sur mes données en commençant par les normaliser"
   ]
  },
  {
   "cell_type": "code",
   "execution_count": 40,
   "id": "ab569ff7-dfb7-40ba-96a2-eb373b8ea6fa",
   "metadata": {},
   "outputs": [],
   "source": [
    "from sklearn.preprocessing import StandardScaler\n",
    "\n",
    "scaler = StandardScaler()\n",
    "\n",
    "X_scaled = scaler.fit_transform(X)"
   ]
  },
  {
   "cell_type": "code",
   "execution_count": 41,
   "id": "90e5b8e9-ff14-42b6-bafc-1bc7391acf73",
   "metadata": {},
   "outputs": [
    {
     "name": "stdout",
     "output_type": "stream",
     "text": [
      "RMSE: 2.7950\n",
      "R²: 0.4581\n"
     ]
    },
    {
     "name": "stderr",
     "output_type": "stream",
     "text": [
      "C:\\Users\\dyath\\anaconda3\\Lib\\site-packages\\sklearn\\metrics\\_regression.py:492: FutureWarning: 'squared' is deprecated in version 1.4 and will be removed in 1.6. To calculate the root mean squared error, use the function'root_mean_squared_error'.\n",
      "  warnings.warn(\n"
     ]
    }
   ],
   "source": [
    "X_train, X_test, y_train, y_test = train_test_split(X_scaled, y, test_size=0.2, random_state=42)\n",
    "\n",
    "# Modèle\n",
    "model = RandomForestRegressor(n_estimators=100, random_state=42)\n",
    "model.fit(X_train, y_train)\n",
    "\n",
    "# Prédictions\n",
    "y_pred = model.predict(X_test)\n",
    "\n",
    "# Évaluation\n",
    "rmse = mean_squared_error(y_test, y_pred, squared=False)\n",
    "r2 = r2_score(y_test, y_pred)\n",
    "\n",
    "print(f'RMSE: {rmse:.4f}')\n",
    "print(f'R²: {r2:.4f}')"
   ]
  },
  {
   "cell_type": "markdown",
   "id": "9fc035bf-d6bf-479a-9e71-4fd26fcb9b65",
   "metadata": {},
   "source": [
    "Malgré tout, les résultats n'ont pas vraiment changé avec ce model. J'ai donc testé le DecisionTreeRegressor. Dans le but d'avoir des hyperparamètres optimaux j'ai testé plusieurs valeurs de profondeur."
   ]
  },
  {
   "cell_type": "code",
   "execution_count": 42,
   "id": "97855db6-46e4-492b-8b1e-e3f2f4dd4019",
   "metadata": {},
   "outputs": [],
   "source": [
    "from sklearn.tree import DecisionTreeRegressor\n",
    "\n",
    "def train_model(max_depth):\n",
    "    model = DecisionTreeRegressor(max_depth=max_depth, random_state=42)\n",
    "    model.fit(X_train, y_train)\n",
    "    \n",
    "    y_train_pred = model.predict(X_train)\n",
    "    y_test_pred = model.predict(X_test)\n",
    "    \n",
    "    r2_train = r2_score(y_train, y_train_pred)\n",
    "    r2_test = r2_score(y_test, y_test_pred)\n",
    "\n",
    "    result = {\n",
    "        'max_depth': max_depth,\n",
    "        'r2_train': r2_train,\n",
    "        'r2_test': r2_test\n",
    "    }\n",
    "\n",
    "    return result"
   ]
  },
  {
   "cell_type": "code",
   "execution_count": 43,
   "id": "2442c5a2-e1af-4ac4-99ac-75e201b5e994",
   "metadata": {},
   "outputs": [
    {
     "data": {
      "text/html": [
       "<div>\n",
       "<style scoped>\n",
       "    .dataframe tbody tr th:only-of-type {\n",
       "        vertical-align: middle;\n",
       "    }\n",
       "\n",
       "    .dataframe tbody tr th {\n",
       "        vertical-align: top;\n",
       "    }\n",
       "\n",
       "    .dataframe thead th {\n",
       "        text-align: right;\n",
       "    }\n",
       "</style>\n",
       "<table border=\"1\" class=\"dataframe\">\n",
       "  <thead>\n",
       "    <tr style=\"text-align: right;\">\n",
       "      <th></th>\n",
       "      <th>max_depth</th>\n",
       "      <th>r2_train</th>\n",
       "      <th>r2_test</th>\n",
       "    </tr>\n",
       "  </thead>\n",
       "  <tbody>\n",
       "    <tr>\n",
       "      <th>0</th>\n",
       "      <td>1</td>\n",
       "      <td>0.348761</td>\n",
       "      <td>0.504787</td>\n",
       "    </tr>\n",
       "    <tr>\n",
       "      <th>1</th>\n",
       "      <td>2</td>\n",
       "      <td>0.502324</td>\n",
       "      <td>0.563497</td>\n",
       "    </tr>\n",
       "    <tr>\n",
       "      <th>2</th>\n",
       "      <td>3</td>\n",
       "      <td>0.644976</td>\n",
       "      <td>0.006838</td>\n",
       "    </tr>\n",
       "    <tr>\n",
       "      <th>3</th>\n",
       "      <td>4</td>\n",
       "      <td>0.719295</td>\n",
       "      <td>0.005925</td>\n",
       "    </tr>\n",
       "  </tbody>\n",
       "</table>\n",
       "</div>"
      ],
      "text/plain": [
       "   max_depth  r2_train   r2_test\n",
       "0          1  0.348761  0.504787\n",
       "1          2  0.502324  0.563497\n",
       "2          3  0.644976  0.006838\n",
       "3          4  0.719295  0.005925"
      ]
     },
     "execution_count": 43,
     "metadata": {},
     "output_type": "execute_result"
    }
   ],
   "source": [
    "model_result_list = []\n",
    "\n",
    "for depth in range(1,5):\n",
    "    model_result = train_model(depth)\n",
    "    model_result_list.append(model_result)\n",
    "\n",
    "model_result_df = pd.DataFrame(model_result_list)\n",
    "model_result_df.head()"
   ]
  },
  {
   "cell_type": "code",
   "execution_count": 44,
   "id": "4d9cda3b-4371-40af-86f3-140e5adcb217",
   "metadata": {},
   "outputs": [
    {
     "name": "stderr",
     "output_type": "stream",
     "text": [
      "C:\\Users\\dyath\\AppData\\Local\\Temp\\ipykernel_20420\\4144133930.py:11: UserWarning: FigureCanvasAgg is non-interactive, and thus cannot be shown\n",
      "  plt.show()\n"
     ]
    }
   ],
   "source": [
    "plt.figure(figsize=(10, 6))\n",
    "plt.plot(model_result_df[\"max_depth\"], model_result_df[\"r2_train\"], marker='*', label=\"AUC Train\", color='blue')\n",
    "plt.plot(model_result_df[\"max_depth\"], model_result_df[\"r2_test\"], marker='o', label=\"AUC Test\", color='orange')\n",
    "\n",
    "plt.title(\"Train and test AUC vs max_depth\")\n",
    "plt.xlabel(\"Max depth\")\n",
    "plt.ylabel(\"AUC\")\n",
    "plt.xticks(model_result_df[\"max_depth\"])\n",
    "plt.grid(True)\n",
    "plt.legend()\n",
    "plt.show()"
   ]
  },
  {
   "cell_type": "markdown",
   "id": "e1945651-2c69-407c-abb7-13f3cf654fa2",
   "metadata": {},
   "source": [
    "Avec celui-ci j'ai un meilleure score mais toujours pas assez bien. Je remarque égalment que lorsqu'on s'intéresse plus en profondeur on données on perd en précision sur le modele."
   ]
  },
  {
   "cell_type": "markdown",
   "id": "9bbc1887-5c5f-4663-bef5-52bea659f032",
   "metadata": {},
   "source": [
    "J'ai essayé le LinearRegression cette fois-ci"
   ]
  },
  {
   "cell_type": "code",
   "execution_count": 45,
   "id": "b503729a-e303-4487-8605-5496c9090b63",
   "metadata": {},
   "outputs": [
    {
     "name": "stdout",
     "output_type": "stream",
     "text": [
      "RMSE: 1275890039306.7500\n",
      "R²: -112926347399462144442368.0000\n"
     ]
    },
    {
     "name": "stderr",
     "output_type": "stream",
     "text": [
      "C:\\Users\\dyath\\anaconda3\\Lib\\site-packages\\sklearn\\metrics\\_regression.py:492: FutureWarning: 'squared' is deprecated in version 1.4 and will be removed in 1.6. To calculate the root mean squared error, use the function'root_mean_squared_error'.\n",
      "  warnings.warn(\n"
     ]
    }
   ],
   "source": [
    "from sklearn.linear_model import LinearRegression\n",
    "from sklearn.impute import SimpleImputer\n",
    "\n",
    "imputer = SimpleImputer(strategy='median')  # ou 'median'\n",
    "X_scaled_imputed = imputer.fit_transform(X_scaled)\n",
    "\n",
    "X_train, X_test, y_train, y_test = train_test_split(X_scaled_imputed, y, test_size=0.2, random_state=42)\n",
    "\n",
    "lr_model = LinearRegression()\n",
    "lr_model.fit(X_train, y_train)\n",
    "lr_y_pred = lr_model.predict(X_test)\n",
    "\n",
    "rmse = mean_squared_error(y_test, lr_y_pred, squared=False)\n",
    "r2 = r2_score(y_test, lr_y_pred)\n",
    "\n",
    "print(f'RMSE: {rmse:.4f}')\n",
    "print(f'R²: {r2:.4f}')"
   ]
  },
  {
   "cell_type": "markdown",
   "id": "2db9813f-1a4e-4b9a-bbf6-81deadf38572",
   "metadata": {},
   "source": [
    "Là c'est vraiment une catastrophe. Donc je pense qu nous allons rester sur le model avec le DecisionTreeRegressor. Je pense que si nous avions des données comme le résumé du film, les acteurs, les réalisateurs, la maison d'edidition, etc, et que les données étaient mieux réparties, on aurait pu avoir de meileurs résultats."
   ]
  },
  {
   "cell_type": "markdown",
   "id": "0f4d0470-6acf-4c19-8d4f-96e5dd04a4c2",
   "metadata": {},
   "source": [
    "# Model final"
   ]
  },
  {
   "cell_type": "code",
   "execution_count": 46,
   "id": "311384ae-e134-411a-b168-f36a26c49a9b",
   "metadata": {},
   "outputs": [
    {
     "name": "stdout",
     "output_type": "stream",
     "text": [
      "0.563496780806068\n"
     ]
    }
   ],
   "source": [
    "model = DecisionTreeRegressor(max_depth=2, random_state=42)\n",
    "model.fit(X_train, y_train)\n",
    "\n",
    "y_train_pred = model.predict(X_train)\n",
    "y_test_pred = model.predict(X_test)\n",
    "\n",
    "r2_test = r2_score(y_test, y_test_pred)\n",
    "\n",
    "print(r2_test)"
   ]
  },
  {
   "cell_type": "markdown",
   "id": "f5e72aeb-008f-4aec-9545-769a0e500ed3",
   "metadata": {},
   "source": [
    "## Deployement"
   ]
  },
  {
   "cell_type": "code",
   "execution_count": 49,
   "id": "c01939ba-b04a-4dac-999a-a514fc401c2c",
   "metadata": {},
   "outputs": [
    {
     "data": {
      "text/plain": [
       "['adult',\n",
       " 'video',\n",
       " 'budget',\n",
       " 'revenue',\n",
       " 'runtime',\n",
       " 'vote_count',\n",
       " 'vote_average',\n",
       " 'original_language',\n",
       " 'Action',\n",
       " 'Adventure',\n",
       " 'Animation',\n",
       " 'Comedy',\n",
       " 'Crime',\n",
       " 'Documentary',\n",
       " 'Drama',\n",
       " 'Family',\n",
       " 'Fantasy',\n",
       " 'History',\n",
       " 'Horror',\n",
       " 'Music',\n",
       " 'Mystery',\n",
       " 'Romance',\n",
       " 'Science Fiction',\n",
       " 'TV Movie',\n",
       " 'Thriller',\n",
       " 'War',\n",
       " 'Western',\n",
       " '',\n",
       " 'Afrikaans',\n",
       " 'Bahasa indonesia',\n",
       " 'Bahasa melayu',\n",
       " 'Bamanankan',\n",
       " 'Bosanski',\n",
       " 'Català',\n",
       " 'Cymraeg',\n",
       " 'Dansk',\n",
       " 'Deutsch',\n",
       " 'Eesti',\n",
       " 'English',\n",
       " 'Español',\n",
       " 'Esperanto',\n",
       " 'Français',\n",
       " 'Gaeilge',\n",
       " 'Galego',\n",
       " 'Hrvatski',\n",
       " 'Italiano',\n",
       " 'Kinyarwanda',\n",
       " 'Kiswahili',\n",
       " 'Latin',\n",
       " 'Lietuvių',\n",
       " 'Magyar',\n",
       " 'Malti',\n",
       " 'Nederlands',\n",
       " 'No Language',\n",
       " 'Norsk',\n",
       " 'Polski',\n",
       " 'Português',\n",
       " 'Pусский',\n",
       " 'Română',\n",
       " 'Slovenčina',\n",
       " 'Slovenščina',\n",
       " 'Somali',\n",
       " 'Srpski',\n",
       " 'Tiếng Việt',\n",
       " 'Türkçe',\n",
       " 'euskera',\n",
       " 'isiZulu',\n",
       " 'shqip',\n",
       " 'suomi',\n",
       " 'svenska',\n",
       " 'Èʋegbe',\n",
       " 'Íslenska',\n",
       " 'Český',\n",
       " 'ελληνικά',\n",
       " 'Український',\n",
       " 'беларуская мова',\n",
       " 'български език',\n",
       " 'қазақ',\n",
       " 'עִבְרִית',\n",
       " 'اردو',\n",
       " 'العربية',\n",
       " 'فارسی',\n",
       " 'پښتو',\n",
       " 'हिन्दी',\n",
       " 'বাংলা',\n",
       " 'ਪੰਜਾਬੀ',\n",
       " 'தமிழ்',\n",
       " 'తెలుగు',\n",
       " 'සිංහල',\n",
       " 'ภาษาไทย',\n",
       " 'ქართული',\n",
       " '广州话 / 廣州話',\n",
       " '日本語',\n",
       " '普通话',\n",
       " '한국어/조선말',\n",
       " 'AE',\n",
       " 'AF',\n",
       " 'AN',\n",
       " 'AR',\n",
       " 'AT',\n",
       " 'AU',\n",
       " 'AZ',\n",
       " 'BA',\n",
       " 'BE',\n",
       " 'BG',\n",
       " 'BO',\n",
       " 'BR',\n",
       " 'BT',\n",
       " 'BW',\n",
       " 'BY',\n",
       " 'CA',\n",
       " 'CH',\n",
       " 'CL',\n",
       " 'CN',\n",
       " 'CO',\n",
       " 'CU',\n",
       " 'CY',\n",
       " 'CZ',\n",
       " 'DE',\n",
       " 'DK',\n",
       " 'DZ',\n",
       " 'EE',\n",
       " 'ES',\n",
       " 'ET',\n",
       " 'FI',\n",
       " 'FR',\n",
       " 'GB',\n",
       " 'GR',\n",
       " 'HK',\n",
       " 'HR',\n",
       " 'HT',\n",
       " 'HU',\n",
       " 'ID',\n",
       " 'IE',\n",
       " 'IL',\n",
       " 'IN',\n",
       " 'IR',\n",
       " 'IS',\n",
       " 'IT',\n",
       " 'JM',\n",
       " 'JP',\n",
       " 'KR',\n",
       " 'KZ',\n",
       " 'LB',\n",
       " 'LI',\n",
       " 'LR',\n",
       " 'LT',\n",
       " 'LU',\n",
       " 'LV',\n",
       " 'ME',\n",
       " 'MN',\n",
       " 'MT',\n",
       " 'MX',\n",
       " 'NI',\n",
       " 'NL',\n",
       " 'NO',\n",
       " 'NZ',\n",
       " 'PE',\n",
       " 'PH',\n",
       " 'PK',\n",
       " 'PL',\n",
       " 'PS',\n",
       " 'PT',\n",
       " 'PY',\n",
       " 'RO',\n",
       " 'RS',\n",
       " 'RU',\n",
       " 'SA',\n",
       " 'SE',\n",
       " 'SG',\n",
       " 'SI',\n",
       " 'SK',\n",
       " 'SU',\n",
       " 'SZ',\n",
       " 'TH',\n",
       " 'TJ',\n",
       " 'TN',\n",
       " 'TR',\n",
       " 'TW',\n",
       " 'UA',\n",
       " 'US',\n",
       " 'UY',\n",
       " 'UZ',\n",
       " 'VE',\n",
       " 'VI',\n",
       " 'XC',\n",
       " 'XG',\n",
       " 'YU',\n",
       " 'ZA',\n",
       " 'release_year']"
      ]
     },
     "execution_count": 49,
     "metadata": {},
     "output_type": "execute_result"
    }
   ],
   "source": [
    "list(X.columns)"
   ]
  },
  {
   "cell_type": "code",
   "execution_count": 48,
   "id": "05d68f63-1ec1-4f04-9cf8-87b0dea38134",
   "metadata": {},
   "outputs": [
    {
     "data": {
      "text/plain": [
       "['expected_columns.pkl']"
      ]
     },
     "execution_count": 48,
     "metadata": {},
     "output_type": "execute_result"
    }
   ],
   "source": [
    "import joblib\n",
    "\n",
    "joblib.dump(model, 'model.pkl')\n",
    "joblib.dump(scaler, 'scaler.pkl')\n",
    "joblib.dump(list(X.columns), 'expected_columns.pkl')"
   ]
  },
  {
   "cell_type": "markdown",
   "id": "aac3eb6f-4e5c-405a-b40d-9ae322972210",
   "metadata": {},
   "source": [
    "## Création d'une application streamlit"
   ]
  },
  {
   "cell_type": "code",
   "execution_count": 6,
   "id": "c2c13850-e20b-4812-8896-75c0298f6bb2",
   "metadata": {},
   "outputs": [],
   "source": [
    "# voir le fichier app.py"
   ]
  },
  {
   "cell_type": "code",
   "execution_count": null,
   "id": "e7b24ff8-4771-4096-b555-961002c21cc3",
   "metadata": {},
   "outputs": [],
   "source": []
  }
 ],
 "metadata": {
  "kernelspec": {
   "display_name": "Python 3 (ipykernel)",
   "language": "python",
   "name": "python3"
  },
  "language_info": {
   "codemirror_mode": {
    "name": "ipython",
    "version": 3
   },
   "file_extension": ".py",
   "mimetype": "text/x-python",
   "name": "python",
   "nbconvert_exporter": "python",
   "pygments_lexer": "ipython3",
   "version": "3.11.5"
  }
 },
 "nbformat": 4,
 "nbformat_minor": 5
}
